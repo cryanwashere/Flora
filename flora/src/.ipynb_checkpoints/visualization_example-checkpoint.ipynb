{
 "cells": [
  {
   "cell_type": "code",
   "execution_count": 2,
   "metadata": {},
   "outputs": [
    {
     "ename": "ModuleNotFoundError",
     "evalue": "No module named 'jax'",
     "output_type": "error",
     "traceback": [
      "\u001b[0;31m---------------------------------------------------------------------------\u001b[0m",
      "\u001b[0;31mModuleNotFoundError\u001b[0m                       Traceback (most recent call last)",
      "Input \u001b[0;32mIn [2]\u001b[0m, in \u001b[0;36m<cell line: 1>\u001b[0;34m()\u001b[0m\n\u001b[0;32m----> 1\u001b[0m \u001b[38;5;28;01mimport\u001b[39;00m \u001b[38;5;21;01mvisual\u001b[39;00m\n\u001b[1;32m      2\u001b[0m \u001b[38;5;28;01mimport\u001b[39;00m \u001b[38;5;21;01mdatasets\u001b[39;00m\n",
      "File \u001b[0;32m~/Desktop/Flora/flora/src/visual.py:1\u001b[0m, in \u001b[0;36m<module>\u001b[0;34m\u001b[0m\n\u001b[0;32m----> 1\u001b[0m \u001b[38;5;28;01mimport\u001b[39;00m \u001b[38;5;21;01mgraph\u001b[39;00m\n\u001b[1;32m      2\u001b[0m \u001b[38;5;28;01mfrom\u001b[39;00m \u001b[38;5;21;01mIPython\u001b[39;00m \u001b[38;5;28;01mimport\u001b[39;00m display\n\u001b[1;32m      4\u001b[0m \u001b[38;5;28;01mclass\u001b[39;00m \u001b[38;5;21;01mVisualizationProbe\u001b[39;00m(\u001b[38;5;28mobject\u001b[39m):\n",
      "File \u001b[0;32m~/Desktop/Flora/flora/src/graph.py:1\u001b[0m, in \u001b[0;36m<module>\u001b[0;34m\u001b[0m\n\u001b[0;32m----> 1\u001b[0m \u001b[38;5;28;01mimport\u001b[39;00m \u001b[38;5;21;01mjax\u001b[39;00m\u001b[38;5;21;01m.\u001b[39;00m\u001b[38;5;21;01mnumpy\u001b[39;00m \u001b[38;5;28;01mas\u001b[39;00m \u001b[38;5;21;01mjnp\u001b[39;00m\n\u001b[1;32m      2\u001b[0m \u001b[38;5;28;01mfrom\u001b[39;00m \u001b[38;5;21;01mjax\u001b[39;00m \u001b[38;5;28;01mimport\u001b[39;00m grad, jacfwd\n\u001b[1;32m      3\u001b[0m \u001b[38;5;28;01mimport\u001b[39;00m \u001b[38;5;21;01mnumpy\u001b[39;00m \u001b[38;5;28;01mas\u001b[39;00m \u001b[38;5;21;01mnp\u001b[39;00m\n",
      "\u001b[0;31mModuleNotFoundError\u001b[0m: No module named 'jax'"
     ]
    }
   ],
   "source": [
    "import visual\n",
    "import datasets"
   ]
  },
  {
   "cell_type": "code",
   "execution_count": 3,
   "metadata": {},
   "outputs": [],
   "source": [
    "from IPython import display"
   ]
  },
  {
   "cell_type": "code",
   "execution_count": 2,
   "metadata": {},
   "outputs": [
    {
     "data": {
      "text/html": [
       "<html><h1>Hello World</h1></html>"
      ],
      "text/plain": [
       "<IPython.core.display.HTML object>"
      ]
     },
     "execution_count": 2,
     "metadata": {},
     "output_type": "execute_result"
    }
   ],
   "source": [
    "display.HTML(\"<html><h1>Hello World</h1></html>\")"
   ]
  },
  {
   "cell_type": "code",
   "execution_count": 10,
   "metadata": {},
   "outputs": [
    {
     "name": "stdout",
     "output_type": "stream",
     "text": [
      "<html><canvas id=\"graph\" width=\"200\" height=\"100\" style=\"border:1px solid #000000;\"></canvas><script type='module'>var c = document.getElementByID('graph');var ctx = c.getContext('2D');ctx.font = '30px Arial';ctx.fillText('Hello, World', 10, 50);</script></html>\n"
     ]
    }
   ],
   "source": [
    "commands = [\n",
    "    \"var c = document.getElementByID('graph');\",\n",
    "    \"var ctx = c.getContext('2D');\",\n",
    "    \"ctx.font = '30px Arial';\",\n",
    "    \"ctx.fillText('Hello, World', 10, 50);\"\n",
    "]\n",
    "\n",
    "canvas = '<canvas id=\"graph\" width=\"200\" height=\"100\" style=\"border:1px solid #000000;\"></canvas>'\n",
    "\n",
    "script = \"<script>\"\n",
    "for command in commands:\n",
    "    script+=command\n",
    "script += \"</script>\"\n",
    "\n",
    "document = \"<html>\"\n",
    "document += canvas\n",
    "document += script\n",
    "document += \"</html>\"\n",
    "\n",
    "display.HTML(document)\n",
    "print(document)"
   ]
  },
  {
   "cell_type": "code",
   "execution_count": 7,
   "metadata": {},
   "outputs": [],
   "source": [
    "import graph\n",
    "import nn\n",
    "import loss\n",
    "\n",
    "class Model(graph.GraphModule):\n",
    "    def __init__(self):\n",
    "        self.input = nn.Input()\n",
    "        self.linear1 = nn.Linear(self.input,[64, 784])\n",
    "        self.relu1 = nn.ReLU(self.linear1.link)\n",
    "        self.linear2 = nn.Linear(self.relu1, [64, 64])\n",
    "        self.relu2 = nn.ReLU(self.linear2.link)\n",
    "        self.linear3 = nn.Linear(self.relu2, [10,64])\n",
    "\n",
    "        self.crossentropy = loss.CategoricalCrossEntropy(self.linear3.link)\n",
    "\n",
    "\n",
    "model = Model()\n"
   ]
  },
  {
   "cell_type": "code",
   "execution_count": 11,
   "metadata": {},
   "outputs": [
    {
     "ename": "AttributeError",
     "evalue": "'NoneType' object has no attribute 'parents'",
     "output_type": "error",
     "traceback": [
      "\u001b[0;31m---------------------------------------------------------------------------\u001b[0m",
      "\u001b[0;31mAttributeError\u001b[0m                            Traceback (most recent call last)",
      "Cell \u001b[0;32mIn [11], line 1\u001b[0m\n\u001b[0;32m----> 1\u001b[0m visual\u001b[39m.\u001b[39;49msummary(model\u001b[39m.\u001b[39;49mcrossentropy)\n",
      "File \u001b[0;32m~/Desktop/Flora/flora/src/visual.py:17\u001b[0m, in \u001b[0;36msummary\u001b[0;34m(node)\u001b[0m\n\u001b[1;32m     15\u001b[0m \u001b[39mdef\u001b[39;00m \u001b[39msummary\u001b[39m(node):\n\u001b[1;32m     16\u001b[0m     visualization_probe \u001b[39m=\u001b[39m VisualizationProbe()\n\u001b[0;32m---> 17\u001b[0m     visualization_probe\u001b[39m.\u001b[39;49mtrace(node)\n",
      "File \u001b[0;32m~/Desktop/Flora/flora/src/visual.py:10\u001b[0m, in \u001b[0;36mVisualizationProbe.trace\u001b[0;34m(self, node)\u001b[0m\n\u001b[1;32m      8\u001b[0m \u001b[39mself\u001b[39m\u001b[39m.\u001b[39mdocument \u001b[39m+\u001b[39m\u001b[39m=\u001b[39m \u001b[39m\"\u001b[39m\u001b[39m<h1>\u001b[39m\u001b[39m\"\u001b[39m \u001b[39m+\u001b[39m \u001b[39mstr\u001b[39m(node) \u001b[39m+\u001b[39m \u001b[39m\"\u001b[39m\u001b[39m</h1>\u001b[39m\u001b[39m\"\u001b[39m\n\u001b[1;32m      9\u001b[0m \u001b[39mfor\u001b[39;00m parent \u001b[39min\u001b[39;00m node\u001b[39m.\u001b[39mparents:\n\u001b[0;32m---> 10\u001b[0m     \u001b[39mself\u001b[39;49m\u001b[39m.\u001b[39;49mtrace(parent)\n",
      "File \u001b[0;32m~/Desktop/Flora/flora/src/visual.py:9\u001b[0m, in \u001b[0;36mVisualizationProbe.trace\u001b[0;34m(self, node)\u001b[0m\n\u001b[1;32m      7\u001b[0m \u001b[39mdef\u001b[39;00m \u001b[39mtrace\u001b[39m(\u001b[39mself\u001b[39m, node):\n\u001b[1;32m      8\u001b[0m     \u001b[39mself\u001b[39m\u001b[39m.\u001b[39mdocument \u001b[39m+\u001b[39m\u001b[39m=\u001b[39m \u001b[39m\"\u001b[39m\u001b[39m<h1>\u001b[39m\u001b[39m\"\u001b[39m \u001b[39m+\u001b[39m \u001b[39mstr\u001b[39m(node) \u001b[39m+\u001b[39m \u001b[39m\"\u001b[39m\u001b[39m</h1>\u001b[39m\u001b[39m\"\u001b[39m\n\u001b[0;32m----> 9\u001b[0m     \u001b[39mfor\u001b[39;00m parent \u001b[39min\u001b[39;00m node\u001b[39m.\u001b[39;49mparents:\n\u001b[1;32m     10\u001b[0m         \u001b[39mself\u001b[39m\u001b[39m.\u001b[39mtrace(parent)\n",
      "\u001b[0;31mAttributeError\u001b[0m: 'NoneType' object has no attribute 'parents'"
     ]
    }
   ],
   "source": [
    "visual.summary(model.crossentropy)"
   ]
  }
 ],
 "metadata": {
  "kernelspec": {
   "display_name": "Python 3 (ipykernel)",
   "language": "python",
   "name": "python3"
  },
  "language_info": {
   "codemirror_mode": {
    "name": "ipython",
    "version": 3
   },
   "file_extension": ".py",
   "mimetype": "text/x-python",
   "name": "python",
   "nbconvert_exporter": "python",
   "pygments_lexer": "ipython3",
   "version": "3.9.12"
  },
  "vscode": {
   "interpreter": {
    "hash": "aee8b7b246df8f9039afb4144a1f6fd8d2ca17a180786b69acc140d282b71a49"
   }
  }
 },
 "nbformat": 4,
 "nbformat_minor": 2
}
