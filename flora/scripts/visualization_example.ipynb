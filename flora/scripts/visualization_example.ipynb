{
 "cells": [
  {
   "cell_type": "code",
   "execution_count": 2,
   "metadata": {},
   "outputs": [],
   "source": [
    "from IPython import display"
   ]
  },
  {
   "cell_type": "code",
   "execution_count": 1,
   "metadata": {},
   "outputs": [],
   "source": [
    "import graph\n",
    "import nn\n",
    "import loss\n",
    "import datasets\n",
    "\n",
    "class Model(graph.GraphModule):\n",
    "    def __init__(self):\n",
    "        self.input = nn.Input()\n",
    "        self.linear1 = nn.Linear(self.input,[64, 784])\n",
    "        self.relu1 = nn.ReLU(self.linear1.link)\n",
    "        self.linear2 = nn.Linear(self.relu1, [64, 64])\n",
    "        self.relu2 = nn.ReLU(self.linear2.link)\n",
    "        self.linear3 = nn.Linear(self.relu2, [10,64])\n",
    "\n",
    "        self.crossentropy = loss.CategoricalCrossEntropy(self.linear3.link)\n",
    "\n",
    "\n",
    "model = Model()\n",
    "mnist = datasets.MNIST()\n",
    "\n",
    "sample_image, sample_label = mnist[0]\n",
    "model.input.attach(sample_image)\n",
    "model.crossentropy.attach(sample_label)"
   ]
  },
  {
   "cell_type": "code",
   "execution_count": 3,
   "metadata": {},
   "outputs": [
    {
     "name": "stdout",
     "output_type": "stream",
     "text": [
      "<html><h3>&lt;loss.CategoricalCrossEntropy object at 0x7f95285caee0&gt;</h3><h3>&lt;nn.Add object at 0x7f95285e3790&gt;</h3><h3>&lt;nn.MatMul object at 0x7f95285e38b0&gt;</h3><h3>Tensor weight, shape:(10, 64)</h3><h3>&lt;nn.ReLU object at 0x7f95285e3b20&gt;</h3><h3>&lt;nn.Add object at 0x7f95285e3fd0&gt;</h3><h3>&lt;nn.MatMul object at 0x7f95285e3eb0&gt;</h3><h3>Tensor weight, shape:(64, 64)</h3><h3>&lt;nn.ReLU object at 0x7f95285e3dc0&gt;</h3><h3>&lt;nn.Add object at 0x7f95285e3d30&gt;</h3><h3>&lt;nn.MatMul object at 0x7f95285e3c10&gt;</h3><h3>Tensor weight, shape:(64, 784)</h3><h3>Graph Input. Attached: True</h3><h3>Tensor , shape:(784,)</h3><h3>Tensor bias, shape:(64,)</h3><h3>Tensor bias, shape:(64,)</h3><h3>Tensor bias, shape:(10,)</h3><h3>Tensor MNIST label, shape:(10,)</h3>\n"
     ]
    },
    {
     "data": {
      "text/html": [
       "<html><h3>&lt;loss.CategoricalCrossEntropy object at 0x7f9526c863d0&gt;</h3><h3>&lt;nn.Add object at 0x7f9528533160&gt;</h3><h3>&lt;nn.MatMul object at 0x7f9528533610&gt;</h3><h3>Tensor weight, shape:(10, 64)</h3><h3>&lt;nn.ReLU object at 0x7f9528533220&gt;</h3><h3>&lt;nn.Add object at 0x7f9528533580&gt;</h3><h3>&lt;nn.MatMul object at 0x7f95285158e0&gt;</h3><h3>Tensor weight, shape:(64, 64)</h3><h3>&lt;nn.ReLU object at 0x7f9528515f40&gt;</h3><h3>&lt;nn.Add object at 0x7f9528312fd0&gt;</h3><h3>&lt;nn.MatMul object at 0x7f9528307100&gt;</h3><h3>Tensor weight, shape:(64, 784)</h3><h3>Graph Input. Attached: True</h3><h3>Tensor , shape:(784,)</h3><h3>Tensor bias, shape:(64,)</h3><h3>Tensor bias, shape:(64,)</h3><h3>Tensor bias, shape:(10,)</h3><h3>Tensor MNIST label, shape:(10,)</h3>"
      ],
      "text/plain": [
       "<IPython.core.display.HTML object>"
      ]
     },
     "execution_count": 3,
     "metadata": {},
     "output_type": "execute_result"
    }
   ],
   "source": [
    "import visual\n",
    "\n",
    "visualizer = visual.summary(model.crossentropy)\n",
    "display.HTML(visualizer.document)"
   ]
  }
 ],
 "metadata": {
  "kernelspec": {
   "display_name": "Python 3 (ipykernel)",
   "language": "python",
   "name": "python3"
  },
  "language_info": {
   "codemirror_mode": {
    "name": "ipython",
    "version": 3
   },
   "file_extension": ".py",
   "mimetype": "text/x-python",
   "name": "python",
   "nbconvert_exporter": "python",
   "pygments_lexer": "ipython3",
   "version": "3.9.1"
  },
  "vscode": {
   "interpreter": {
    "hash": "aee8b7b246df8f9039afb4144a1f6fd8d2ca17a180786b69acc140d282b71a49"
   }
  }
 },
 "nbformat": 4,
 "nbformat_minor": 2
}
